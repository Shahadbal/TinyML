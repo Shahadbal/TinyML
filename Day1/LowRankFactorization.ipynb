{
  "nbformat": 4,
  "nbformat_minor": 0,
  "metadata": {
    "colab": {
      "provenance": []
    },
    "kernelspec": {
      "name": "python3",
      "display_name": "Python 3"
    },
    "language_info": {
      "name": "python"
    }
  },
  "cells": [
    {
      "cell_type": "markdown",
      "source": [
        "# Singular Value Decomposition (SVD)"
      ],
      "metadata": {
        "id": "y4IAQrDbOJ1D"
      }
    },
    {
      "cell_type": "markdown",
      "source": [
        "\n",
        "Singular Value Decomposition (SVD), a matrix A can be decomposed as:\n",
        "\n",
        "A\n",
        "=\n",
        "U\n",
        "Σ\n",
        "V^T\n",
        "\n",
        "If the dimensions of matrix A are n x m, then the matrix U has dimensions n x n, and the matrix V has dimensions m x m."
      ],
      "metadata": {
        "id": "xnBlcDkY_Idy"
      }
    },
    {
      "cell_type": "code",
      "execution_count": 68,
      "metadata": {
        "id": "h4Uhft6o-39u"
      },
      "outputs": [],
      "source": [
        "import numpy as np\n",
        "from scipy.linalg import svd\n",
        "from numpy import diag\n",
        "from numpy import zeros"
      ]
    },
    {
      "cell_type": "code",
      "source": [
        "A = np.random.randn(100,49) # 100 , 7x7"
      ],
      "metadata": {
        "id": "TjPeWwj2_dOG"
      },
      "execution_count": 69,
      "outputs": []
    },
    {
      "cell_type": "code",
      "source": [
        "U,S,VT = svd(A)"
      ],
      "metadata": {
        "id": "ifIfusDd_uOi"
      },
      "execution_count": 70,
      "outputs": []
    },
    {
      "cell_type": "code",
      "source": [
        "print(U.shape) # number of rows of matrix A\n",
        "print(S.shape) # vector\n",
        "print(VT.shape) # number of columns of matrix A"
      ],
      "metadata": {
        "colab": {
          "base_uri": "https://localhost:8080/"
        },
        "id": "NHkB-sW5_28f",
        "outputId": "22f56b23-a7df-4a0d-af3c-793849d3e28a"
      },
      "execution_count": 71,
      "outputs": [
        {
          "output_type": "stream",
          "name": "stdout",
          "text": [
            "(100, 100)\n",
            "(49,)\n",
            "(49, 49)\n"
          ]
        }
      ]
    },
    {
      "cell_type": "code",
      "source": [
        "print(S)"
      ],
      "metadata": {
        "colab": {
          "base_uri": "https://localhost:8080/"
        },
        "id": "v7PK9nPu_8Oi",
        "outputId": "2ae2ed88-c0aa-412c-8e53-cf880ce106c2"
      },
      "execution_count": 72,
      "outputs": [
        {
          "output_type": "stream",
          "name": "stdout",
          "text": [
            "[16.66948374 16.26058772 15.91051372 15.49175028 15.01699582 14.288657\n",
            " 14.03816858 13.56007781 13.20840704 12.93129246 12.5151939  12.38674661\n",
            " 12.17040371 11.77362705 11.59138644 11.36231321 11.25954374 10.82437418\n",
            " 10.52823214 10.17291352 10.09484535  9.88248307  9.31951207  9.24621311\n",
            "  9.1184015   8.82252891  8.7491829   8.29230165  8.24463817  8.07710917\n",
            "  7.88662826  7.50277807  7.33277529  7.17673146  6.92550049  6.90762055\n",
            "  6.58002202  6.09856546  5.97099679  5.80532225  5.68705672  5.39088611\n",
            "  5.21101729  5.07985222  4.6485425   4.28593923  4.15015616  3.70932091\n",
            "  3.29744046]\n"
          ]
        }
      ]
    },
    {
      "cell_type": "code",
      "source": [
        "# to make the size of S same to the size of A\n",
        "\n",
        "sigma = zeros((A.shape[0], A.shape[1]))\n",
        "sigma[:A.shape[1],:A.shape[1]] = diag(S)"
      ],
      "metadata": {
        "id": "CqmkuTdxAV0Q"
      },
      "execution_count": 73,
      "outputs": []
    },
    {
      "cell_type": "code",
      "source": [
        "print(sigma)\n",
        "print(sigma.shape)"
      ],
      "metadata": {
        "colab": {
          "base_uri": "https://localhost:8080/"
        },
        "id": "9NrppyPTA-OP",
        "outputId": "48da8b55-dbdc-465f-a0e0-10d130872e19"
      },
      "execution_count": 74,
      "outputs": [
        {
          "output_type": "stream",
          "name": "stdout",
          "text": [
            "[[16.66948374  0.          0.         ...  0.          0.\n",
            "   0.        ]\n",
            " [ 0.         16.26058772  0.         ...  0.          0.\n",
            "   0.        ]\n",
            " [ 0.          0.         15.91051372 ...  0.          0.\n",
            "   0.        ]\n",
            " ...\n",
            " [ 0.          0.          0.         ...  0.          0.\n",
            "   0.        ]\n",
            " [ 0.          0.          0.         ...  0.          0.\n",
            "   0.        ]\n",
            " [ 0.          0.          0.         ...  0.          0.\n",
            "   0.        ]]\n",
            "(100, 49)\n"
          ]
        }
      ]
    },
    {
      "cell_type": "code",
      "source": [
        "A"
      ],
      "metadata": {
        "colab": {
          "base_uri": "https://localhost:8080/"
        },
        "id": "NgojAq49BtDw",
        "outputId": "03420ca5-cc9e-4abb-fbd9-56b62b755329"
      },
      "execution_count": 75,
      "outputs": [
        {
          "output_type": "execute_result",
          "data": {
            "text/plain": [
              "array([[ 1.03764425,  1.27624974, -0.7175942 , ...,  0.7708957 ,\n",
              "         0.2922959 , -0.30572119],\n",
              "       [-1.35875075,  0.7537294 ,  1.56300806, ..., -1.66601751,\n",
              "        -0.56285249,  0.43151994],\n",
              "       [ 0.59750042,  1.8722858 ,  0.89831191, ...,  1.24310711,\n",
              "        -0.31392677,  0.43437198],\n",
              "       ...,\n",
              "       [ 0.69978889, -0.40526957, -0.59600642, ...,  0.07875108,\n",
              "         0.311613  , -1.02741657],\n",
              "       [ 0.04085183, -1.04173635,  0.5613235 , ..., -1.02425913,\n",
              "         0.32118132, -0.82544677],\n",
              "       [ 0.04480918, -1.40731216,  0.58221369, ...,  1.12580578,\n",
              "         0.23203362, -0.95208381]])"
            ]
          },
          "metadata": {},
          "execution_count": 75
        }
      ]
    },
    {
      "cell_type": "code",
      "source": [
        "B = U.dot(sigma.dot(VT)) # Or B = U @ sigma @ VT\n",
        "B #we can get A from U,S,VT (B==A)"
      ],
      "metadata": {
        "colab": {
          "base_uri": "https://localhost:8080/"
        },
        "id": "Edltgj4DBXI-",
        "outputId": "ec7363b3-21f0-40fd-9e35-6aa5cdd2343d"
      },
      "execution_count": 76,
      "outputs": [
        {
          "output_type": "execute_result",
          "data": {
            "text/plain": [
              "array([[ 1.03764425,  1.27624974, -0.7175942 , ...,  0.7708957 ,\n",
              "         0.2922959 , -0.30572119],\n",
              "       [-1.35875075,  0.7537294 ,  1.56300806, ..., -1.66601751,\n",
              "        -0.56285249,  0.43151994],\n",
              "       [ 0.59750042,  1.8722858 ,  0.89831191, ...,  1.24310711,\n",
              "        -0.31392677,  0.43437198],\n",
              "       ...,\n",
              "       [ 0.69978889, -0.40526957, -0.59600642, ...,  0.07875108,\n",
              "         0.311613  , -1.02741657],\n",
              "       [ 0.04085183, -1.04173635,  0.5613235 , ..., -1.02425913,\n",
              "         0.32118132, -0.82544677],\n",
              "       [ 0.04480918, -1.40731216,  0.58221369, ...,  1.12580578,\n",
              "         0.23203362, -0.95208381]])"
            ]
          },
          "metadata": {},
          "execution_count": 76
        }
      ]
    },
    {
      "cell_type": "code",
      "source": [
        "A_ = U[:,:16] @ sigma[:16] @ VT[:,:16]"
      ],
      "metadata": {
        "id": "KBJYAizMBxIM"
      },
      "execution_count": 77,
      "outputs": []
    },
    {
      "cell_type": "code",
      "source": [
        "A_.shape"
      ],
      "metadata": {
        "colab": {
          "base_uri": "https://localhost:8080/"
        },
        "id": "xJ8488LZDYEJ",
        "outputId": "4251c1e5-3ee5-4911-c871-8f4974e1d2f6"
      },
      "execution_count": 78,
      "outputs": [
        {
          "output_type": "execute_result",
          "data": {
            "text/plain": [
              "(100, 16)"
            ]
          },
          "metadata": {},
          "execution_count": 78
        }
      ]
    },
    {
      "cell_type": "markdown",
      "source": [
        "# Perform low-rank factorization on MNIST"
      ],
      "metadata": {
        "id": "kePcsGlzE6LL"
      }
    },
    {
      "cell_type": "code",
      "source": [
        "import torch\n",
        "from torch.utils.data import DataLoader, TensorDataset\n",
        "from torchvision.datasets import MNIST\n",
        "from torch.utils.data import DataLoader"
      ],
      "metadata": {
        "id": "c_PcqkKHDias"
      },
      "execution_count": 79,
      "outputs": []
    },
    {
      "cell_type": "code",
      "source": [
        "train_dataset = MNIST(root=\"\",download = True, train = True, transform= transforms.Compose([transforms.ToTensor(), transforms.Normalize((0.5,), (0.5,))]))"
      ],
      "metadata": {
        "id": "o8J4T42YEzFx"
      },
      "execution_count": 80,
      "outputs": []
    },
    {
      "cell_type": "code",
      "source": [
        "train_data = train_dataset.data.numpy()\n",
        "\n",
        "# Flatten each image to a vector\n",
        "flat_train_data = train_data.reshape(train_data.shape[0], -1)\n",
        "\n",
        "# Perform SVD for low-rank factorization\n",
        "U, S, Vt = np.linalg.svd(flat_train_data, full_matrices=False)\n",
        "\n",
        "# rank ( for example : 16)\n",
        "rank = 16\n",
        "\n",
        "# Reconstruct the data using the selected rank\n",
        "reconstructed_data = U[:, :rank] @ np.diag(S[:rank]) @ Vt[:rank, :]"
      ],
      "metadata": {
        "id": "Ofp-c9RIKM6h"
      },
      "execution_count": 81,
      "outputs": []
    },
    {
      "cell_type": "code",
      "source": [
        "reconstructed_tensor = torch.Tensor(reconstructed_data)\n",
        "# Convert the original labels to PyTorch tensors\n",
        "labels = torch.Tensor(train_dataset.targets.numpy()).long()\n",
        "\n",
        "# Create a DataLoader with the reconstructed data and labels\n",
        "train_loader = DataLoader(TensorDataset(reconstructed_tensor, labels), batch_size=64, shuffle=True)"
      ],
      "metadata": {
        "id": "GOxLFYPzK95t"
      },
      "execution_count": 82,
      "outputs": []
    },
    {
      "cell_type": "markdown",
      "source": [
        "# Train NN on the low-rank factorized data"
      ],
      "metadata": {
        "id": "_T09NEs-O2Ec"
      }
    },
    {
      "cell_type": "code",
      "source": [
        "import torch.nn as nn\n",
        "import torch.nn.functional as F\n",
        "import torch.optim as optim"
      ],
      "metadata": {
        "id": "Cw2Si-SRO5V9"
      },
      "execution_count": 83,
      "outputs": []
    },
    {
      "cell_type": "code",
      "source": [
        "class My_NN(nn.Module):\n",
        "\n",
        "    def __init__(self, ni, nh, no): #ni --> # of input nodes, nh --> # of hidden nodes, no --> # of output nodes\n",
        "        super().__init__()\n",
        "        self.layer1 = nn.Linear(ni, nh)\n",
        "        self.layer2 = nn.Linear(nh, no)\n",
        "\n",
        "    def forward(self, x):\n",
        "        x = self.layer1(x)\n",
        "        x = torch.sigmoid(x)\n",
        "        x = self.layer2(x)\n",
        "        return x"
      ],
      "metadata": {
        "id": "USVpg3oHIzaB"
      },
      "execution_count": 84,
      "outputs": []
    },
    {
      "cell_type": "code",
      "source": [
        "net = My_NN(28*28, 500, 10)"
      ],
      "metadata": {
        "id": "15UTf3GuMUvh"
      },
      "execution_count": 85,
      "outputs": []
    },
    {
      "cell_type": "code",
      "source": [
        "lr = 1e-2\n",
        "num_epochs = 2\n",
        "opt = optim.SGD(net.parameters(), lr=lr)\n",
        "\n",
        "for _ in range(num_epochs):\n",
        "    total_loss = 0\n",
        "    for batch in train_loader:\n",
        "        x, y = batch[0], batch[1]\n",
        "\n",
        "        unique_labels = set(y.numpy())\n",
        "\n",
        "\n",
        "        logits = net(x)\n",
        "        loss = F.cross_entropy(logits, y)\n",
        "        total_loss += loss.item()\n",
        "\n",
        "        opt.zero_grad()\n",
        "        loss.backward()\n",
        "        opt.step()\n",
        "\n",
        "    print(\"Epoch {}, Loss: {}\".format(_, total_loss))\n"
      ],
      "metadata": {
        "colab": {
          "base_uri": "https://localhost:8080/"
        },
        "id": "fDLFDz7UM_cV",
        "outputId": "30f3dc87-be6b-43d8-f3d5-5c17c67c2432"
      },
      "execution_count": 86,
      "outputs": [
        {
          "output_type": "stream",
          "name": "stdout",
          "text": [
            "Epoch 0, Loss: 497.6570819616318\n",
            "Epoch 1, Loss: 302.81817691773176\n"
          ]
        }
      ]
    }
  ]
}