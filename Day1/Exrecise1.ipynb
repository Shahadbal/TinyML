{
  "nbformat": 4,
  "nbformat_minor": 0,
  "metadata": {
    "colab": {
      "provenance": []
    },
    "kernelspec": {
      "name": "python3",
      "display_name": "Python 3"
    },
    "language_info": {
      "name": "python"
    }
  },
  "cells": [
    {
      "cell_type": "markdown",
      "source": [
        "Design a neural network architecture for the MNIST dataset, aiming to reshape images from their original 28x28 to 6x6. The network should be configured to have approximately 1000 parameters"
      ],
      "metadata": {
        "id": "BQgOWOSl9s1w"
      }
    },
    {
      "cell_type": "code",
      "execution_count": null,
      "metadata": {
        "id": "WKKGJhTP7anj"
      },
      "outputs": [],
      "source": [
        "import torch\n",
        "from torchvision import datasets\n",
        "from torchvision import models,transforms\n",
        "from torchvision.datasets import MNIST\n",
        "from torch.utils.data import DataLoader\n",
        "import torch.nn as nn\n",
        "import torch.nn.functional as F\n",
        "import torch.optim as optim"
      ]
    },
    {
      "cell_type": "code",
      "source": [
        "#...transform MNIST images to tensor and resize it to 6*6\n",
        "mnist = datasets.MNIST(root=\"\",download = True, train = True, transform= transforms.Compose([transforms.ToTensor(), transforms.Resize((6,6))]))"
      ],
      "metadata": {
        "id": "lJ1mKY8b7r7m"
      },
      "execution_count": null,
      "outputs": []
    },
    {
      "cell_type": "code",
      "source": [
        "my_DataLoader = DataLoader(mnist, batch_size=64)"
      ],
      "metadata": {
        "id": "5s_OBz5i78LY"
      },
      "execution_count": null,
      "outputs": []
    },
    {
      "cell_type": "code",
      "source": [
        "class My_NN(nn.Module):\n",
        "\n",
        "    def __init__(self, ni, nh, no): #ni --> # of input nodes, nh --> # of hidden nodes, no --> # of output nodes\n",
        "        super().__init__()\n",
        "        self.layer1 = nn.Linear(ni, nh)\n",
        "        self.layer2 = nn.Linear(nh, no)\n",
        "\n",
        "    def forward(self, x):\n",
        "        x = x.view(-1, 6 * 6)  # Reshape to 6*6\n",
        "        x = self.layer1(x)\n",
        "        x = torch.sigmoid(x)\n",
        "        x = self.layer2(x)\n",
        "        return x"
      ],
      "metadata": {
        "id": "SkcfUV598B7y"
      },
      "execution_count": null,
      "outputs": []
    },
    {
      "cell_type": "code",
      "source": [
        "device = torch.device(\"cuda:0\")\n",
        "net = My_NN(6*6, 30, 10)\n",
        "\n",
        "#check the number of parameters\n",
        "num_params = sum(p.numel() for p in net.parameters())\n",
        "print(\"Number of parameters:\", num_params)"
      ],
      "metadata": {
        "id": "BQu_h3db8Lou"
      },
      "execution_count": null,
      "outputs": []
    },
    {
      "cell_type": "code",
      "source": [
        "lr = 1e-2\n",
        "num_epochs = 2\n",
        "opt = optim.SGD(net.parameters(), lr=lr)\n",
        "\n",
        "for _ in range(num_epochs):\n",
        "    total_loss = 0\n",
        "    for batch in my_DataLoader:\n",
        "        x, y = batch[0], batch[1]\n",
        "        logits = net(x)\n",
        "        loss = F.cross_entropy(logits, y)\n",
        "        total_loss += loss.item()\n",
        "\n",
        "        opt.zero_grad()\n",
        "        loss.backward()\n",
        "        opt.step()\n",
        "\n",
        "    print(\"Epoch {}, Loss: {}\".format(_, total_loss))"
      ],
      "metadata": {
        "id": "tG9dbLzH8Vat"
      },
      "execution_count": null,
      "outputs": []
    }
  ]
}