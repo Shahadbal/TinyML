{
  "cells": [
    {
      "cell_type": "markdown",
      "metadata": {
        "id": "gpkVCcfOEY9X"
      },
      "source": [
        "# D2 Lab 3: Tensorflow Lab\n",
        "## Contents:\n",
        "\n",
        "In this project we will\n",
        "1. Use `Tensorflow` to build a simple classification model\n",
        "2. Get familiar with the `tensorflow.lite` module. Tensorflow Lite, or in short, TFLite optimizes the Tensorflow's computational graphs for efficiency. From the user perspective, this simplification comes with some differences of method invocation, which we will learn.\n",
        "3. Deployment time! The optimized model in `tflite` format will be deployed to a NiclaVision. We will use a simplified method instead of directly working with TFLM: We are going to use EdgeImpulse API, which incorporates the TFLM and other software. It is simpler this way!\n",
        "4. And of course, some wireless networking (MQTT) will be added!"
      ]
    },
    {
      "cell_type": "code",
      "execution_count": 1,
      "metadata": {
        "id": "CJ6Y53-mEY9Z"
      },
      "outputs": [],
      "source": [
        "import numpy as np\n",
        "import matplotlib.pyplot as plt\n",
        "import tensorflow as tf\n",
        "from tensorflow.keras import layers, models, optimizers, losses\n",
        "from sklearn.model_selection import train_test_split # for data shuffling"
      ]
    },
    {
      "cell_type": "markdown",
      "metadata": {
        "id": "5pfgNSqFEY9Z"
      },
      "source": [
        "## PART 1: A sample project in TensorFlow\n",
        "\n",
        "Let's say we have some labelled data, with labels 'A' and 'B'."
      ]
    },
    {
      "cell_type": "code",
      "execution_count": 3,
      "metadata": {
        "colab": {
          "base_uri": "https://localhost:8080/"
        },
        "id": "XIfCb5oXEY9Z",
        "outputId": "80b2fc89-736c-4506-86b1-187d5b3d0478"
      },
      "outputs": [
        {
          "output_type": "stream",
          "name": "stdout",
          "text": [
            "got data X: (8000, 2)  labels Y: (8000, 2)\n"
          ]
        }
      ],
      "source": [
        "with open(\"lab_data.npy\", 'rb') as f:\n",
        "    X = np.load(f)\n",
        "    Y = np.load(f)\n",
        "print(\"got data X:\", X.shape, \" labels Y:\", Y.shape)"
      ]
    },
    {
      "cell_type": "code",
      "execution_count": 4,
      "metadata": {
        "colab": {
          "base_uri": "https://localhost:8080/"
        },
        "id": "nlpNl4csEY9a",
        "outputId": "4bcc402c-7b6c-4062-a67d-edd29c171ef6"
      },
      "outputs": [
        {
          "output_type": "stream",
          "name": "stdout",
          "text": [
            "(8000, 2)\n",
            "(8000, 2)\n"
          ]
        }
      ],
      "source": [
        "dens1=X[np.where(Y==[1,0])[0]]\n",
        "dens2=X[np.where(Y==[0,1])[0]]\n",
        "print(dens1.shape)\n",
        "print(dens2.shape)"
      ]
    },
    {
      "cell_type": "code",
      "execution_count": 5,
      "metadata": {
        "id": "vvJOrCQbEY9a"
      },
      "outputs": [],
      "source": [
        "binx = np.linspace(-5,5,40,endpoint=False)\n",
        "biny = np.linspace(-5,5,40,endpoint=False)"
      ]
    },
    {
      "cell_type": "code",
      "execution_count": 6,
      "metadata": {
        "colab": {
          "base_uri": "https://localhost:8080/",
          "height": 430
        },
        "id": "kdlEPB1UFHT_",
        "outputId": "f43ca0e3-d00d-4251-f5c0-df2754fd2b83"
      },
      "outputs": [
        {
          "output_type": "display_data",
          "data": {
            "text/plain": [
              "<Figure size 640x480 with 1 Axes>"
            ],
            "image/png": "[encoded data removed]"
          },
          "metadata": {}
        }
      ],
      "source": [
        "plt.hist2d(dens1[:,0], dens1[:,1], bins=[binx,biny], cmap='Blues', density=True, alpha=0.75)\n",
        "plt.hist2d(dens2[:,0], dens2[:,1], bins=[binx,biny], cmap='Reds', density=True, alpha=0.5)\n",
        "plt.show()"
      ]
    },
    {
      "cell_type": "code",
      "execution_count": 7,
      "metadata": {
        "colab": {
          "base_uri": "https://localhost:8080/"
        },
        "id": "Z213Q0TNEY9a",
        "outputId": "2507367d-ca0c-4555-e73b-ade0d1c5c547"
      },
      "outputs": [
        {
          "output_type": "stream",
          "name": "stdout",
          "text": [
            "(6400, 2)\n",
            "(6400, 2)\n"
          ]
        }
      ],
      "source": [
        "test_size=0.2 # Add yours\n",
        "train_data, valid_data, train_labels, valid_labels = train_test_split(\n",
        "    X, Y,\n",
        "    test_size=test_size,\n",
        "    shuffle=True,\n",
        "    random_state=1)\n",
        "print(train_data.shape)\n",
        "print(train_labels.shape)"
      ]
    },
    {
      "cell_type": "code",
      "execution_count": 8,
      "metadata": {
        "id": "uoGy_NL6EY9a"
      },
      "outputs": [],
      "source": [
        "# Add your layer(s). Keep it simple!\n",
        "model = models.Sequential(\n",
        "    [\n",
        "        layers.Dense(64, activation='relu', use_bias=True, input_shape=[2]),\n",
        "        layers.Dense(28, activation='relu', use_bias=True),\n",
        "        layers.Dense(2, activation='softmax', use_bias=True)\n",
        "    ])"
      ]
    },
    {
      "cell_type": "code",
      "execution_count": 9,
      "metadata": {
        "id": "dwYh9OedEY9b"
      },
      "outputs": [],
      "source": [
        "# This is important for batching!\n",
        "batch_size=50\n",
        "model(np.ones((batch_size,2), dtype='float'))\n",
        "# Set the learning rate\n",
        "learn_rate = 0.001\n",
        "model.compile(\n",
        "    optimizer=optimizers.Adam(learning_rate=learn_rate),\n",
        "    loss=losses.CategoricalCrossentropy(),\n",
        "    metrics=['accuracy'])"
      ]
    },
    {
      "cell_type": "code",
      "execution_count": 10,
      "metadata": {
        "colab": {
          "base_uri": "https://localhost:8080/"
        },
        "id": "0QCJs7oiEY9b",
        "outputId": "1ff080ca-c9b9-4c02-e2ce-006284ca2b7c"
      },
      "outputs": [
        {
          "output_type": "stream",
          "name": "stdout",
          "text": [
            "Epoch 1/20\n",
            "128/128 [==============================] - 1s 4ms/step - loss: 0.1372 - accuracy: 0.9720 - val_loss: 0.0259 - val_accuracy: 0.9956\n",
            "Epoch 2/20\n",
            "128/128 [==============================] - 0s 3ms/step - loss: 0.0156 - accuracy: 0.9983 - val_loss: 0.0140 - val_accuracy: 0.9950\n",
            "Epoch 3/20\n",
            "128/128 [==============================] - 0s 3ms/step - loss: 0.0090 - accuracy: 0.9984 - val_loss: 0.0115 - val_accuracy: 0.9950\n",
            "Epoch 4/20\n",
            "128/128 [==============================] - 0s 3ms/step - loss: 0.0069 - accuracy: 0.9980 - val_loss: 0.0104 - val_accuracy: 0.9956\n",
            "Epoch 5/20\n",
            "128/128 [==============================] - 0s 2ms/step - loss: 0.0063 - accuracy: 0.9981 - val_loss: 0.0104 - val_accuracy: 0.9962\n",
            "Epoch 6/20\n",
            "128/128 [==============================] - 0s 2ms/step - loss: 0.0056 - accuracy: 0.9984 - val_loss: 0.0110 - val_accuracy: 0.9956\n",
            "Epoch 7/20\n",
            "128/128 [==============================] - 0s 3ms/step - loss: 0.0055 - accuracy: 0.9984 - val_loss: 0.0114 - val_accuracy: 0.9962\n",
            "Epoch 8/20\n",
            "128/128 [==============================] - 0s 2ms/step - loss: 0.0052 - accuracy: 0.9983 - val_loss: 0.0103 - val_accuracy: 0.9962\n",
            "Epoch 9/20\n",
            "128/128 [==============================] - 0s 3ms/step - loss: 0.0054 - accuracy: 0.9980 - val_loss: 0.0116 - val_accuracy: 0.9956\n",
            "Epoch 10/20\n",
            "128/128 [==============================] - 0s 2ms/step - loss: 0.0053 - accuracy: 0.9983 - val_loss: 0.0111 - val_accuracy: 0.9956\n",
            "Epoch 11/20\n",
            "128/128 [==============================] - 0s 3ms/step - loss: 0.0056 - accuracy: 0.9984 - val_loss: 0.0117 - val_accuracy: 0.9956\n",
            "Epoch 12/20\n",
            "128/128 [==============================] - 0s 3ms/step - loss: 0.0053 - accuracy: 0.9981 - val_loss: 0.0106 - val_accuracy: 0.9962\n",
            "Epoch 13/20\n",
            "128/128 [==============================] - 0s 3ms/step - loss: 0.0054 - accuracy: 0.9978 - val_loss: 0.0113 - val_accuracy: 0.9956\n",
            "Epoch 14/20\n",
            "128/128 [==============================] - 0s 2ms/step - loss: 0.0054 - accuracy: 0.9983 - val_loss: 0.0110 - val_accuracy: 0.9962\n",
            "Epoch 15/20\n",
            "128/128 [==============================] - 0s 3ms/step - loss: 0.0055 - accuracy: 0.9977 - val_loss: 0.0110 - val_accuracy: 0.9962\n",
            "Epoch 16/20\n",
            "128/128 [==============================] - 0s 3ms/step - loss: 0.0049 - accuracy: 0.9986 - val_loss: 0.0114 - val_accuracy: 0.9956\n",
            "Epoch 17/20\n",
            "128/128 [==============================] - 0s 3ms/step - loss: 0.0051 - accuracy: 0.9978 - val_loss: 0.0113 - val_accuracy: 0.9962\n",
            "Epoch 18/20\n",
            "128/128 [==============================] - 0s 4ms/step - loss: 0.0050 - accuracy: 0.9980 - val_loss: 0.0115 - val_accuracy: 0.9962\n",
            "Epoch 19/20\n",
            "128/128 [==============================] - 1s 5ms/step - loss: 0.0053 - accuracy: 0.9983 - val_loss: 0.0110 - val_accuracy: 0.9962\n",
            "Epoch 20/20\n",
            "128/128 [==============================] - 0s 4ms/step - loss: 0.0050 - accuracy: 0.9977 - val_loss: 0.0123 - val_accuracy: 0.9950\n"
          ]
        }
      ],
      "source": [
        "# Replace Nones with correct values\n",
        "info = model.fit(\n",
        "    train_data, train_labels, batch_size=50,\n",
        "    validation_data=(valid_data, valid_labels),\n",
        "    shuffle=True, epochs=20, verbose=1)\n",
        "h = info.history"
      ]
    },
    {
      "cell_type": "code",
      "execution_count": 11,
      "metadata": {
        "colab": {
          "base_uri": "https://localhost:8080/",
          "height": 430
        },
        "id": "3deNL37NEY9b",
        "outputId": "efda1232-8b58-44dd-8a8f-c2946fad9c88"
      },
      "outputs": [
        {
          "output_type": "display_data",
          "data": {
            "text/plain": [
              "<Figure size 640x480 with 2 Axes>"
            ],
            "image/png": "[encoded data removed]"
          },
          "metadata": {}
        }
      ],
      "source": [
        "fig, ax = plt.subplots(1, 2, sharex=True)\n",
        "ax[0].plot(h['loss'], color='black')\n",
        "ax[0].plot(h['val_loss'], color='red')\n",
        "ax[1].plot(h['accuracy'], color='black');\n",
        "ax[1].plot(h['val_accuracy'], color='red')\n",
        "plt.show()"
      ]
    },
    {
      "cell_type": "markdown",
      "metadata": {
        "id": "9enHABoPEY9b"
      },
      "source": [
        "Here, we plot 'predictions' along two horizontal lines, one at x=2, another at x=-2\n",
        "\n",
        "Can you see why we do that?"
      ]
    },
    {
      "cell_type": "code",
      "execution_count": 12,
      "metadata": {
        "colab": {
          "base_uri": "https://localhost:8080/",
          "height": 430
        },
        "id": "XpOKguq9EY9b",
        "outputId": "93418541-fd35-4608-e62a-0b9093847b6d"
      },
      "outputs": [
        {
          "output_type": "display_data",
          "data": {
            "text/plain": [
              "<Figure size 640x480 with 1 Axes>"
            ],
            "image/png": "[encoded data removed]"
          },
          "metadata": {}
        }
      ],
      "source": [
        "line1 = np.array([np.linspace(-5, 5, 100), np.tile([2.0],100)]).T\n",
        "line2 = np.array([np.linspace(-5, 5, 100), np.tile([-2.0],100)]).T\n",
        "ypred1 = model(line1).numpy()\n",
        "ypred2 = model(line2).numpy()\n",
        "plt.plot(line1[:,0], ypred1[:,0], color='red', label='A at upper line')\n",
        "plt.plot(line1[:,0], ypred1[:,1], color='blue', label='B at upper line')\n",
        "plt.plot(line2[:,0], ypred2[:,0], color='red', linestyle='dashed', label='A at lower line')\n",
        "plt.plot(line2[:,0], ypred2[:,1], color='blue', linestyle='dashed', label='B at lower line')\n",
        "\n",
        "plt.legend()\n",
        "plt.show()"
      ]
    },
    {
      "cell_type": "markdown",
      "metadata": {
        "id": "I1HQsMegEY9b"
      },
      "source": [
        "## PART 2: Computational Graphs with TFLite\n",
        "We cannot deploy this Tensorflow model on a microcontroller.\n",
        "\n",
        "Luckily, there are a variety of tools that can 'convert' the model into a form usable on microcontrollers.\n",
        "\n",
        "In particular, Tensorflow itself has a submodule called TFLite (`tensoflow.lite`) for handling the conversion.\n",
        "\n",
        "So the first passage from TensorFlow to micrcontrollers goes through `TFLite`."
      ]
    },
    {
      "cell_type": "code",
      "execution_count": 13,
      "metadata": {
        "id": "sMkOqzV5EY9b"
      },
      "outputs": [],
      "source": [
        "mpath = \"model.tflite\" # Give your model a name\n",
        "\n",
        "converter = tf.lite.TFLiteConverter.from_keras_model(model)\n",
        "converter.target_spec = tf.lite.TargetSpec()\n",
        "m = converter.convert()\n",
        "\n",
        "with open(mpath, 'wb') as f:\n",
        "    f.write(m)"
      ]
    },
    {
      "cell_type": "code",
      "execution_count": 18,
      "metadata": {
        "id": "1ouHvX4dEY9b"
      },
      "outputs": [],
      "source": [
        "#####SKIP THIS PART\n",
        "#interpreter = tf.lite.Interpreter(model_path=mpath)\n",
        "#interpreter.allocate_tensors()\n",
        "#input_shape = [2]\n",
        "\n",
        "#xtest = tf.constant([3.0, 3.0], shape=input_shape, dtype=tf.float32)\n",
        "\n",
        "# TensorFlow way:\n",
        "#y_tf = model(xtest)\n",
        "#print('with TensorFlow:', y_tf)\n",
        "\n",
        "# TFLite (and micro) way:\n",
        "#interpreter.set_tensor(0, xtest)\n",
        "#interpreter.invoke()\n",
        "#y_lite = interpreter.get_tensor(output_details[0]['index'])\n",
        "#print('with TF Lite   :', y_lite)"
      ]
    },
    {
      "cell_type": "markdown",
      "metadata": {
        "id": "nOjRI_CLEY9b"
      },
      "source": [
        "## PART 3: Burning a model into a microconroller\n",
        "Microcontrollers like C code. You can get away with microPython sometimes, but only non performance critical applications.\n",
        "\n",
        "Deployment is a process of incorporating the binary model and the model operations into a C program.\n",
        "\n",
        "The 'standard' way would be to use TensorFlow Lite (TFLite) C API.\n",
        "Essentially, we need to translate to C language this chunk of code:\n",
        "```{python}\n",
        "interpreter.set_tensor(0, xtest)\n",
        "interpreter.invoke()\n",
        "ytest = interpreter.get_tensor(output_details[0]['index'])\n",
        "print(ytest.numpy())\n",
        "```\n",
        "and all the boilerplate related to memory handling.\n",
        "It's not very user friendly (have a look at some examples, there are many out there...)\n",
        "\n",
        "We'll use a neat shortcut.\n",
        "\n",
        "EdgeImpulse now allows loading your own `tflite` model. So we'll try this path.\n",
        "What we can achieve, is that all the C code will be handled for us by EdgeImpulse.\n",
        "\n",
        "We will only go in there to tweak it.\n",
        "Again, not perfect for performance critical tasks, but good enough for us!\n",
        "\n",
        "\n",
        "## Steps\n",
        "- 1. Build a `tflite` model (remember; one-hot)\n",
        "- 2. Import the model into EdgeImpulse\n",
        "- 3. Build an Arduino Library using EdgeImpulse SDK\n",
        "- 4. Import the library into Arduino IDE\n",
        "- 5. Modify code to suit our needs\n",
        "- 6. Compile and deploy as an ordinary Arduino sketch\n",
        "- 7. Run and test!"
      ]
    },
    {
      "cell_type": "markdown",
      "metadata": {
        "id": "kPbX_Uw5EY9b"
      },
      "source": [
        "## Edge Impulse"
      ]
    },
    {
      "cell_type": "markdown",
      "metadata": {
        "id": "tX_yoekNEY9b"
      },
      "source": [
        "### Create a new EdgeImpulse project\n",
        "![create a new project](assets/eimp1.png)"
      ]
    },
    {
      "cell_type": "markdown",
      "metadata": {
        "id": "1-AEcyLXEY9b"
      },
      "source": [
        "### Select `Upload your model`\n",
        "![upload model](assets/eimp2.png)"
      ]
    },
    {
      "cell_type": "markdown",
      "metadata": {
        "id": "HzoosyUOEY9b"
      },
      "source": [
        "### Find your model and select it\n",
        "![browse and select model](assets/eimp3.png)\n"
      ]
    },
    {
      "cell_type": "markdown",
      "metadata": {
        "id": "YokD6iNeEY9b"
      },
      "source": [
        "### Set the options as follows\n",
        "- Model input: Other\n",
        "- Model output: classification\n",
        "- Labels : any (name them as you like)\n",
        "![](assets/eimp4.png)"
      ]
    },
    {
      "cell_type": "markdown",
      "metadata": {
        "id": "rDU5uTKoEY9c"
      },
      "source": [
        "### configure your deployment as\n",
        "Go to deployment, select\n",
        "- Arduino library\n",
        "![6](assets/eimp5.png)"
      ]
    },
    {
      "cell_type": "markdown",
      "metadata": {
        "id": "S0so6ZckEY9c"
      },
      "source": [
        "### Build and download\n",
        "At the end of this process we are going to get an Arduino Library written in \"Edge Impulse IDE\"\n",
        "![7](assets/eimp6.png)"
      ]
    },
    {
      "cell_type": "markdown",
      "metadata": {
        "id": "1Oed9dVcEY9c"
      },
      "source": [
        "## Arduino IDE\n",
        "Take any example from the `examples` folder, or start from scratch.\n",
        "\n",
        "We will modify the provided example code, to suit our needs.\n",
        "- customize input\n",
        "- Add MQTT communications"
      ]
    },
    {
      "cell_type": "markdown",
      "metadata": {
        "id": "sf99OCSVEY9c"
      },
      "source": [
        "### Header\n",
        "We need one header from Edge Impulse.\n",
        "\n",
        "Additionally, we add headers for wireless communications.\n",
        "\n",
        "Note this variable: `signal_t sig`\n",
        "\n",
        "\n",
        "![](assets/ino1.png)"
      ]
    },
    {
      "cell_type": "markdown",
      "metadata": {
        "id": "N6yPNqnZEY9c"
      },
      "source": [
        "For the setup we have to\n",
        "- provide the function that gets input values\n",
        "- Provide input size\n",
        "![](assets/ino2.png)"
      ]
    },
    {
      "cell_type": "markdown",
      "metadata": {
        "id": "vF6xIO8EEY9c"
      },
      "source": [
        "The main loop is rather simple!\n",
        "- A couple of lines for the inference, basically one function call.\n",
        "- At the end, we make a payload from data and send a message.\n",
        "\n",
        "![](assets/ino3.png)"
      ]
    },
    {
      "cell_type": "markdown",
      "metadata": {
        "id": "9Ig2JmPfEY9c"
      },
      "source": [
        "To benefit from EdgeImpulse SDK, we need to look up a couple of function definitions:\n",
        "- `signal_t` specifies how the input has to be provided.\n",
        "\n",
        "![10](assets/eimp7.png)"
      ]
    },
    {
      "cell_type": "markdown",
      "metadata": {
        "id": "gjpuy8DyEY9c"
      },
      "source": [
        "- `ei_impulse_result_t` specifies how the output is stored.\n",
        "\n",
        "![](assets/eimp8.png)"
      ]
    },
    {
      "cell_type": "markdown",
      "metadata": {
        "id": "MrvxxuhYEY9c"
      },
      "source": [
        "# Seeing the result in a notebook\n",
        "\n",
        "Open, configure and run `client.ipynb` and see the results!\n"
      ]
    },
    {
      "cell_type": "code",
      "execution_count": null,
      "metadata": {
        "id": "ak7nyhdpEY9c"
      },
      "outputs": [],
      "source": []
    }
  ],
  "metadata": {
    "celltoolbar": "Slideshow",
    "kernelspec": {
      "display_name": "kaust",
      "language": "python",
      "name": "kaust"
    },
    "language_info": {
      "codemirror_mode": {
        "name": "ipython",
        "version": 3
      },
      "file_extension": ".py",
      "mimetype": "text/x-python",
      "name": "python",
      "nbconvert_exporter": "python",
      "pygments_lexer": "ipython3",
      "version": "3.11.6"
    },
    "colab": {
      "provenance": []
    }
  },
  "nbformat": 4,
  "nbformat_minor": 0
}